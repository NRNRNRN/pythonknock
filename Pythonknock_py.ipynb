{
  "nbformat": 4,
  "nbformat_minor": 0,
  "metadata": {
    "colab": {
      "name": "Pythonknock.py",
      "provenance": [],
      "collapsed_sections": [],
      "authorship_tag": "ABX9TyPOq+ZjPFTmNJs+MTwgvG3I",
      "include_colab_link": true
    },
    "kernelspec": {
      "name": "python3",
      "display_name": "Python 3"
    }
  },
  "cells": [
    {
      "cell_type": "markdown",
      "metadata": {
        "id": "view-in-github",
        "colab_type": "text"
      },
      "source": [
        "<a href=\"https://colab.research.google.com/github/NRNRNRN/pythonknock/blob/master/Pythonknock_py.ipynb\" target=\"_parent\"><img src=\"https://colab.research.google.com/assets/colab-badge.svg\" alt=\"Open In Colab\"/></a>"
      ]
    },
    {
      "cell_type": "markdown",
      "metadata": {
        "id": "yWQ7JK4LO4Kk",
        "colab_type": "text"
      },
      "source": [
        "00 文字列の逆順\n",
        "\n",
        "文字列”stressed”の文字を逆に（末尾から先頭に向かって）並べた文字列を得よ．"
      ]
    },
    {
      "cell_type": "code",
      "metadata": {
        "id": "kitJiyajPCbP",
        "colab_type": "code",
        "outputId": "38ef67ed-3cf0-4b9f-da6e-a80c681fdcd3",
        "colab": {
          "base_uri": "https://localhost:8080/",
          "height": 34
        }
      },
      "source": [
        "text = \"stressed\"\n",
        "print(text[::-1])"
      ],
      "execution_count": 0,
      "outputs": [
        {
          "output_type": "stream",
          "text": [
            "desserts\n"
          ],
          "name": "stdout"
        }
      ]
    },
    {
      "cell_type": "markdown",
      "metadata": {
        "id": "ll_ZrQXFVV4o",
        "colab_type": "text"
      },
      "source": [
        "01「パタトクカシーー」\n",
        "\n",
        "「パタトクカシーー」という文字列の1,3,5,7文字目を取り出して連結した文字列を得よ．"
      ]
    },
    {
      "cell_type": "code",
      "metadata": {
        "id": "Hajo334JViBm",
        "colab_type": "code",
        "outputId": "bcb44bd8-c23d-4481-9290-2f74d8fe7682",
        "colab": {
          "base_uri": "https://localhost:8080/",
          "height": 34
        }
      },
      "source": [
        "text = \"パタトクカシーー\"\n",
        "print(text[1::2])"
      ],
      "execution_count": 0,
      "outputs": [
        {
          "output_type": "stream",
          "text": [
            "タクシー\n"
          ],
          "name": "stdout"
        }
      ]
    },
    {
      "cell_type": "markdown",
      "metadata": {
        "id": "sLHsE_3KWyr_",
        "colab_type": "text"
      },
      "source": [
        "02「パトカー」＋「タクシー」＝「パタトクカシーー」\n",
        "\n",
        "「パトカー」＋「タクシー」の文字を先頭から交互に連結して文字列「パタトクカシーー」を得よ．"
      ]
    },
    {
      "cell_type": "code",
      "metadata": {
        "id": "AswF8Z4AW8K_",
        "colab_type": "code",
        "outputId": "b6f379b8-4e26-4f92-c652-4c91549e062f",
        "colab": {
          "base_uri": "https://localhost:8080/",
          "height": 34
        }
      },
      "source": [
        "text1 = \"パトカー\"\n",
        "text2 =\"タクシー\"\n",
        "ans = \" \"\n",
        "\n",
        "for i in range(len(text1)):\n",
        "    ans += text1[i]\n",
        "    ans += text2[i]\n",
        "\n",
        "print(ans)\n"
      ],
      "execution_count": 0,
      "outputs": [
        {
          "output_type": "stream",
          "text": [
            " パタトクカシーー\n"
          ],
          "name": "stdout"
        }
      ]
    },
    {
      "cell_type": "markdown",
      "metadata": {
        "id": "mrd2vpRWha9h",
        "colab_type": "text"
      },
      "source": [
        "03 円周率\n",
        "\n",
        "“Now I need a drink, alcoholic of course, after the heavy lectures involving quantum mechanics.”という文を単語に分解し，各単語の（アルファベットの）文字数を先頭から出現順に並べたリストを作成せよ"
      ]
    },
    {
      "cell_type": "code",
      "metadata": {
        "id": "_iqfWFkXhlxP",
        "colab_type": "code",
        "outputId": "8c88f295-a6c2-4325-fb95-8c7e52a53530",
        "colab": {
          "base_uri": "https://localhost:8080/",
          "height": 272
        }
      },
      "source": [
        "text = 'Now I need a drink, alcoholic of course, after the heavy lectures involving quantum mechanics.'\n",
        "text1 = text.replace(\".\",\"\").replace(\",\",\"\")\n",
        "text2 = text1.split(\" \")\n",
        "for  text3 in text2:\n",
        "  print(len(text3))"
      ],
      "execution_count": 0,
      "outputs": [
        {
          "output_type": "stream",
          "text": [
            "3\n",
            "1\n",
            "4\n",
            "1\n",
            "5\n",
            "9\n",
            "2\n",
            "6\n",
            "5\n",
            "3\n",
            "5\n",
            "8\n",
            "9\n",
            "7\n",
            "9\n"
          ],
          "name": "stdout"
        }
      ]
    },
    {
      "cell_type": "markdown",
      "metadata": {
        "id": "EjDCynx0INs0",
        "colab_type": "text"
      },
      "source": [
        ""
      ]
    }
  ]
}